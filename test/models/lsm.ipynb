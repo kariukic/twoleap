{
 "cells": [
  {
   "cell_type": "code",
   "execution_count": 1,
   "metadata": {},
   "outputs": [],
   "source": [
    "import numpy as np\n",
    "import pandas as pd"
   ]
  },
  {
   "cell_type": "code",
   "execution_count": 2,
   "metadata": {},
   "outputs": [],
   "source": [
    "sage_model = \"/home/users/chege/theleap/ddecal/models/sagecal_format/rescaled_new3c61.sky.txt\"\n",
    "sage_clusters = \"/home/users/chege/theleap/ddecal/models/sagecal_format/rescaled_new3c61.sky.txt.cluster\""
   ]
  },
  {
   "cell_type": "code",
   "execution_count": 3,
   "metadata": {},
   "outputs": [],
   "source": [
    "def get_clusters_components(cluster_file):\n",
    "    cluster_dict = {}\n",
    "    with open(cluster_file) as cf:\n",
    "        clusters = cf.readlines()\n",
    "        for i, cl in enumerate(clusters):\n",
    "            cl=cl.strip()\n",
    "            if cl.strip() and not cl.startswith(\"#\"):\n",
    "                splitted=cl.strip(\"\\n\").split(\" \")\n",
    "                cluster_dict[splitted[0]] = {}\n",
    "                cluster_dict[splitted[0]]['hf'] = splitted[1]\n",
    "                cluster_dict[splitted[0]]['sources'] = splitted[2:]\n",
    "    return cluster_dict"
   ]
  },
  {
   "cell_type": "code",
   "execution_count": 4,
   "metadata": {},
   "outputs": [],
   "source": [
    "def sagecal_to_dp3(sage_model, sage_clusters, dp3_outfile):\n",
    "\n",
    "    sage_cols = ['name', 'rah', 'ram', 'ras', 'decd', 'decm', 'decs', 'I', 'Q', 'U', 'V', 'spectral_index0', 'spectral_index1', 'spectral_index2', 'RotationMeasure', 'MajorAxis', 'MinorAxis', 'Orientation', 'ReferenceFrequency', 'empty']\n",
    "    dp3_fields = ['Patch', 'rah', 'ram', 'ras', 'decd', 'decm', 'decs', 'I', 'Q', 'U', 'V', 'RotationMeasure', 'MajorAxis', 'MinorAxis', 'Orientation', 'ReferenceFrequency', 'SpectralIndex', 'LogarithmicSI']\n",
    "\n",
    "    sage_df = pd.read_csv(sage_model,index_col=0, sep=\" \", skiprows=5, names=sage_cols, comment='#').drop('empty', axis=1)\n",
    "\n",
    "    # move 'spectral_index0', 'spectral_index1', 'spectral_index2' to a single 'SpectralIndex' column and drop them\n",
    "    spec_indices = list(zip(sage_df['spectral_index0'], sage_df['spectral_index1'], sage_df['spectral_index2']))\n",
    "    sage_df['SpectralIndex'] = [list (s) for s in spec_indices]\n",
    "    sage_df = sage_df.drop(['spectral_index0', 'spectral_index1', 'spectral_index2'], axis=1)\n",
    "\n",
    "    # add a LogarithmicSI column. Sagecal only supports this log spectral index format\n",
    "    sage_df['LogarithmicSI'] = [\"true\"] * len(sage_df)\n",
    "\n",
    "    di_model = get_clusters_components(sage_clusters)\n",
    "    print(di_model.keys())\n",
    "\n",
    "\n",
    "    def _get_dir_df(sage_df, direc, d):\n",
    "        direc_name = f\"cluster{d}\"\n",
    "        direction = di_model[direc]['sources']\n",
    "        direc_df = sage_df[sage_df.index.isin(direction)]\n",
    "        direc_df['Patch'] = [direc_name] * len(direc_df)\n",
    "        direc_df = direc_df[dp3_fields]\n",
    "\n",
    "        return direc_df\n",
    "\n",
    "\n",
    "    directions = [_get_dir_df(sage_df, direc, d) for (d, direc) in enumerate(list(di_model.keys()))]\n",
    "\n",
    "\n",
    "    with open(dp3_outfile, \"w\") as dm:\n",
    "        format = \"Format = Name,\" + \",\".join(list(directions[0].columns))\n",
    "        dm.writelines(f\"{format}\\n\")\n",
    "\n",
    "    with open(dp3_outfile, \"a\") as dm:\n",
    "        for direc_df in directions:\n",
    "            direc_title =  ['', direc_df[\"Patch\"][0], \"1\", \"17\", \"12.261\", \"89\", \"28\", \"48.916\\n\"]\n",
    "            dm.writelines(f\"{','.join(direc_title)}\\n\")\n",
    "\n",
    "       \n",
    "            direc_df.to_csv(dp3_outfile, sep=',', mode='a', header=False)\n",
    "            \n",
    "\n",
    "    # ncp_main = di_model['-1']['sources']\n",
    "    # ncp_3c61 = di_model['-2']['sources']\n",
    "\n",
    "    # ncp_main_df = sage_df[sage_df.index.isin(ncp_main)]\n",
    "    # ncp_3c61_df = sage_df[sage_df.index.isin(ncp_3c61)]\n",
    "\n",
    "    # ncp_main_df['Patch'] = ['MAIN_NCP_FIELD'] * len(ncp_main_df)\n",
    "    # ncp_3c61_df['Patch'] = ['3C61_FIELD'] * len(ncp_3c61_df)\n",
    "\n",
    "\n",
    "    # # Start writing out the dp3 model format\n",
    "    # main_field_format =  ['', 'MAIN_NCP_FIELD', \"1\", \"17\", \"12.261\", \"89\", \"28\", \"48.916\\n\"]\n",
    "    # m3c61_format =  ['', '3C61_FIELD', \"2\", \"22\", \"34.44\", \"86\", \"17\", \"7.89\\n\"]\n",
    "    # print(len(ncp_main_df.keys()))\n",
    "\n",
    "    # dp3_fields = ['Patch', 'rah', 'ram', 'ras', 'decd', 'decm', 'decs', 'I', 'Q', 'U', 'V', 'RotationMeasure', 'MajorAxis', 'MinorAxis', 'Orientation', 'ReferenceFrequency', 'SpectralIndex', 'LogarithmicSI']\n",
    "    # ncp_main_df = ncp_main_df[dp3_fields]\n",
    "    # ncp_3c61_df = ncp_3c61_df[dp3_fields]\n",
    "\n",
    "    # print(len(ncp_main_df.keys()))\n",
    "\n",
    "    # with open(dp3_outfile, \"w\") as dm:\n",
    "    #     format = \"Format = Name,\" + \",\".join(list(ncp_main_df.columns))\n",
    "    #     dm.writelines(f\"{format}\\n\")\n",
    "\n",
    "    # with open(dp3_outfile, \"a\") as dm:\n",
    "    #     dm.writelines(f\"{','.join(main_field_format)}\\n\")\n",
    "\n",
    "    # ncp_main_df.to_csv(dp3_outfile, sep=',', mode='a', header=False)\n",
    "\n",
    "    # with open(dp3_outfile, \"a\") as dm:\n",
    "    #     dm.writelines(f\"{','.join(m3c61_format)}\\n\")\n",
    "\n",
    "    # ncp_3c61_df.to_csv(dp3_outfile, sep=',', mode='a', header=False)\n",
    "\n"
   ]
  },
  {
   "cell_type": "code",
   "execution_count": 5,
   "metadata": {},
   "outputs": [
    {
     "name": "stdout",
     "output_type": "stream",
     "text": [
      "dict_keys(['-1', '-2'])\n"
     ]
    },
    {
     "name": "stderr",
     "output_type": "stream",
     "text": [
      "/tmp/ipykernel_1292652/516712724.py:24: SettingWithCopyWarning: \n",
      "A value is trying to be set on a copy of a slice from a DataFrame.\n",
      "Try using .loc[row_indexer,col_indexer] = value instead\n",
      "\n",
      "See the caveats in the documentation: https://pandas.pydata.org/pandas-docs/stable/user_guide/indexing.html#returning-a-view-versus-a-copy\n",
      "  direc_df['Patch'] = [direc_name] * len(direc_df)\n",
      "/tmp/ipykernel_1292652/516712724.py:24: SettingWithCopyWarning: \n",
      "A value is trying to be set on a copy of a slice from a DataFrame.\n",
      "Try using .loc[row_indexer,col_indexer] = value instead\n",
      "\n",
      "See the caveats in the documentation: https://pandas.pydata.org/pandas-docs/stable/user_guide/indexing.html#returning-a-view-versus-a-copy\n",
      "  direc_df['Patch'] = [direc_name] * len(direc_df)\n",
      "/tmp/ipykernel_1292652/516712724.py:39: FutureWarning: Series.__getitem__ treating keys as positions is deprecated. In a future version, integer keys will always be treated as labels (consistent with DataFrame behavior). To access a value by position, use `ser.iloc[pos]`\n",
      "  direc_title =  ['', direc_df[\"Patch\"][0], \"1\", \"17\", \"12.261\", \"89\", \"28\", \"48.916\\n\"]\n"
     ]
    }
   ],
   "source": [
    "sagecal_to_dp3(sage_model, sage_clusters, 'dp3out.txt')"
   ]
  },
  {
   "cell_type": "code",
   "execution_count": 1,
   "metadata": {},
   "outputs": [],
   "source": [
    "import lsmtool"
   ]
  },
  {
   "cell_type": "code",
   "execution_count": 12,
   "metadata": {},
   "outputs": [],
   "source": [
    "di_model = lsmtool.load(\"/home/users/chege/theleap/twoleap/test/models/rescaled_new3c61.sky.bbs.txt\")\n",
    "di_model.plot(\"di_intrinsic_rescaled.pdf\", labelBy='patch')"
   ]
  },
  {
   "cell_type": "code",
   "execution_count": 8,
   "metadata": {},
   "outputs": [
    {
     "name": "stderr",
     "output_type": "stream",
     "text": [
      "WARNING: IllegalSecondWarning: 'second' was found  to be '60.0', which is not in range [0,60). Treating as 0 sec, +1 min [astropy.coordinates.angle_formats]\n",
      "WARNING: IllegalSecondWarning: 'second' was found  to be '60.0', which is not in range [0,60). Treating as 0 sec, +1 min\n"
     ]
    }
   ],
   "source": [
    "dd_model = lsmtool.load(\"/home/users/chege/theleap/twoleap/test/models/sky_sagecal_no_diffuse_simple_ateam_corrected_shape.bbs\")\n",
    "dd_model.plot(\"dd_intrinsic_rescaled.pdf\")"
   ]
  },
  {
   "cell_type": "code",
   "execution_count": null,
   "metadata": {},
   "outputs": [],
   "source": []
  },
  {
   "cell_type": "code",
   "execution_count": 9,
   "metadata": {},
   "outputs": [],
   "source": [
    "ateam = lsmtool.load(\"/home/users/chege/theleap/nenuflow/models/Ateam_LBA.skymodel\")"
   ]
  },
  {
   "cell_type": "code",
   "execution_count": 18,
   "metadata": {},
   "outputs": [],
   "source": [
    "ateam.concatenate(di_model)"
   ]
  },
  {
   "cell_type": "code",
   "execution_count": 22,
   "metadata": {},
   "outputs": [],
   "source": [
    "ateam.setPatchPositions(method='wmean')"
   ]
  },
  {
   "cell_type": "code",
   "execution_count": 24,
   "metadata": {},
   "outputs": [],
   "source": [
    "ateam.write(\"ncp_and_ateam.txt\", addHistory=True, clobber=True)"
   ]
  },
  {
   "cell_type": "code",
   "execution_count": null,
   "metadata": {},
   "outputs": [],
   "source": []
  }
 ],
 "metadata": {
  "kernelspec": {
   "display_name": "Python 3",
   "language": "python",
   "name": "python3"
  },
  "language_info": {
   "codemirror_mode": {
    "name": "ipython",
    "version": 3
   },
   "file_extension": ".py",
   "mimetype": "text/x-python",
   "name": "python",
   "nbconvert_exporter": "python",
   "pygments_lexer": "ipython3",
   "version": "3.10.8"
  }
 },
 "nbformat": 4,
 "nbformat_minor": 2
}
